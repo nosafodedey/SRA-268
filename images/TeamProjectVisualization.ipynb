{
  "nbformat": 4,
  "nbformat_minor": 0,
  "metadata": {
    "colab": {
      "name": "TeamProjectVisualization.ipynb",
      "provenance": []
    },
    "kernelspec": {
      "name": "python3",
      "display_name": "Python 3"
    }
  },
  "cells": [
    {
      "cell_type": "markdown",
      "metadata": {
        "id": "Kw5PZBtl0Ob6",
        "colab_type": "text"
      },
      "source": [
        "# Avocados :^)"
      ]
    },
    {
      "cell_type": "markdown",
      "metadata": {
        "id": "iXWAmSVB0Rno",
        "colab_type": "text"
      },
      "source": [
        "Contributors:\n",
        "\n",
        "\n",
        "*   Nicole Osafo-Dedey\n",
        "*   Noah Schaffer\n",
        "*   Calvin Snyder\n",
        "\n",
        "\n",
        "\n"
      ]
    },
    {
      "cell_type": "markdown",
      "metadata": {
        "id": "WpaW-i5l0ZHn",
        "colab_type": "text"
      },
      "source": [
        "## Background"
      ]
    },
    {
      "cell_type": "markdown",
      "metadata": {
        "id": "E4VKsOvP0eev",
        "colab_type": "text"
      },
      "source": [
        "In order to go about or project the first thing that we needed to find was a data set to use to create our case study. We began to look through the data provided in canvas and came across many that would've been able to be used to create a sufficient case study, but the data set that our group eventually decided to go with came from kaggle.com, and dealt with the pricing of avocados. The dataset represents 2018 weekly research scan data for national retail volume and price. Retail scan data comes directly from retailers’ cash registers based on actual retail sales of Hass avocados. The data goes all the way back to 2013, and the data table reflects an expanded, multi outlet retail data set. Channels used in this multimedia data set include grocery, mass, club, drug, dollar and military. With this data set you can see a lot of different characteristics when it comes to dealing with these avocados. The job of our group was to find something interesting or eye catching within the data set that we would be able to create our case study project on. With all of the subsets and channels included to categorize our data we could choose to do anything form the age of the avocado to the region that it was grown. After a bit of brainstorming our group decided to conduct our case study dealing with the relationship between the price of a given avocado and the month that it was sold."
      ]
    },
    {
      "cell_type": "markdown",
      "metadata": {
        "id": "7d8vfcGufV0_",
        "colab_type": "text"
      },
      "source": [
        "### Goal"
      ]
    },
    {
      "cell_type": "markdown",
      "metadata": {
        "id": "e1jKSGTjfY2H",
        "colab_type": "text"
      },
      "source": [
        "The goal of our case study is to identify the type of relationship (if any) between the price of the avocado and the month it was sold. Does the price flare up in certain months? Does it drop during others? That's what we're looking to pinpoint."
      ]
    },
    {
      "cell_type": "markdown",
      "metadata": {
        "id": "GOxy_TvCfi54",
        "colab_type": "text"
      },
      "source": [
        "### Assumptions"
      ]
    },
    {
      "cell_type": "markdown",
      "metadata": {
        "id": "cw1v_1MMfnAR",
        "colab_type": "text"
      },
      "source": [
        "Insert 10 assumptions for your data model:\n",
        "*   Quality\n",
        "*   Taste\n",
        "*   Clean\n",
        "*   Price\n",
        "*   Pesticides Used\n",
        "*   GMO\n",
        "*   Texture\n",
        "*   Size\n",
        "*   Ripeness\n",
        "*   Consistency\n",
        "\n"
      ]
    },
    {
      "cell_type": "markdown",
      "metadata": {
        "id": "jKGILpu7gWr6",
        "colab_type": "text"
      },
      "source": [
        "### Data Sources"
      ]
    },
    {
      "cell_type": "markdown",
      "metadata": {
        "id": "uwCao7AtgbNn",
        "colab_type": "text"
      },
      "source": [
        "We mainly used the Kiggins because it is from a site provided by our professor, proving that it is credible and has very useful information that will provide interesting relationships.\n",
        "\n",
        "A secondary data source we used was from Pande. We used this as a double check system to make sure data lined up well enough to be trusted, confirming its accuracy. \n",
        "\n",
        "We decided not to join the data, as the Kiggins source is plenty in itself, providing a lot of information and various relationships we could look at. We also didn't want any conflicts with data overlapping or one source slightly differing from the other, causing other issues.\n",
        "\n",
        "We also used the Imperfect Foods source as it alligns with other information about avocado seasons, and helps give more information about avocados and possible reasons for their price flucuation.\n",
        "\n",
        "The final source we used was the USA Today article by Kelly Tyko. In the article she goes over various reasons for price changes, including a few misconceptions, but also including the correct reasons for the price increases. This article was mainly used to find the reasoning for price changes as the data itself doesn't explain it and jsut gives the numbers. Using this article we found the main reason for the price increase to be the large demand increase, with a secondary reasoning of the most expensive times of year being when avocados are not in season in California or Mexico, resulting in no source from North America and longer distance shipping."
      ]
    },
    {
      "cell_type": "markdown",
      "metadata": {
        "id": "kDgSdoQUgg2Z",
        "colab_type": "text"
      },
      "source": [
        "#### Sources"
      ]
    },
    {
      "cell_type": "markdown",
      "metadata": {
        "id": "dFzYIi0Agi2_",
        "colab_type": "text"
      },
      "source": [
        "Avocado Prices 1 Kiggins - https://www.kaggle.com/neuromusic/avocado-prices/data\n",
        "\n",
        "Avocado Prices 2 Pande - https://www.kaggle.com/rishpande/avocado-prices-data-visualization-beginner\n",
        "\n",
        "Avocavo Seasons - http://blog.imperfectfoods.com/blog-1/2019/2/13/when-are-avocados-in-season\n",
        "\n",
        "Price Reasons Tyko - https://www.usatoday.com/story/money/food/2019/07/11/avocado-prices-why-avocado-prices-have-been-increasing/1677876001/"
      ]
    },
    {
      "cell_type": "code",
      "metadata": {
        "id": "kyZ1tIeIyZqD",
        "colab_type": "code",
        "colab": {}
      },
      "source": [
        ""
      ],
      "execution_count": 0,
      "outputs": []
    },
    {
      "cell_type": "markdown",
      "metadata": {
        "id": "qcFak2v7g3jt",
        "colab_type": "text"
      },
      "source": [
        "## Dashboard (5)"
      ]
    },
    {
      "cell_type": "code",
      "metadata": {
        "id": "knG79vNP0Q0u",
        "colab_type": "code",
        "outputId": "8517b293-2423-42bb-dc25-b167cd0efa6c",
        "colab": {
          "base_uri": "https://localhost:8080/",
          "height": 1000
        }
      },
      "source": [
        "import IPython\n",
        "IPython.display.HTML(\"<div class='tableauPlaceholder' id='viz1588199245057' style='position: relative'><noscript><a href='#'><img alt=' ' src='https:&#47;&#47;public.tableau.com&#47;static&#47;images&#47;MB&#47;MBZS5X9PT&#47;1_rss.png' style='border: none' /></a></noscript><object class='tableauViz'  style='display:none;'><param name='host_url' value='https%3A%2F%2Fpublic.tableau.com%2F' /> <param name='embed_code_version' value='3' /> <param name='path' value='shared&#47;MBZS5X9PT' /> <param name='toolbar' value='yes' /><param name='static_image' value='https:&#47;&#47;public.tableau.com&#47;static&#47;images&#47;MB&#47;MBZS5X9PT&#47;1.png' /> <param name='animate_transition' value='yes' /><param name='display_static_image' value='yes' /><param name='display_spinner' value='yes' /><param name='display_overlay' value='yes' /><param name='display_count' value='yes' /></object></div>                <script type='text/javascript'>                    var divElement = document.getElementById('viz1588199245057');                    var vizElement = divElement.getElementsByTagName('object')[0];                    vizElement.style.width='100%';vizElement.style.height=(divElement.offsetWidth*0.75)+'px';                    var scriptElement = document.createElement('script');                    scriptElement.src = 'https://public.tableau.com/javascripts/api/viz_v1.js';                    vizElement.parentNode.insertBefore(scriptElement, vizElement);                </script>\")\n"
      ],
      "execution_count": 0,
      "outputs": [
        {
          "output_type": "execute_result",
          "data": {
            "text/html": [
              "<div class='tableauPlaceholder' id='viz1588199245057' style='position: relative'><noscript><a href='#'><img alt=' ' src='https:&#47;&#47;public.tableau.com&#47;static&#47;images&#47;MB&#47;MBZS5X9PT&#47;1_rss.png' style='border: none' /></a></noscript><object class='tableauViz'  style='display:none;'><param name='host_url' value='https%3A%2F%2Fpublic.tableau.com%2F' /> <param name='embed_code_version' value='3' /> <param name='path' value='shared&#47;MBZS5X9PT' /> <param name='toolbar' value='yes' /><param name='static_image' value='https:&#47;&#47;public.tableau.com&#47;static&#47;images&#47;MB&#47;MBZS5X9PT&#47;1.png' /> <param name='animate_transition' value='yes' /><param name='display_static_image' value='yes' /><param name='display_spinner' value='yes' /><param name='display_overlay' value='yes' /><param name='display_count' value='yes' /></object></div>                <script type='text/javascript'>                    var divElement = document.getElementById('viz1588199245057');                    var vizElement = divElement.getElementsByTagName('object')[0];                    vizElement.style.width='100%';vizElement.style.height=(divElement.offsetWidth*0.75)+'px';                    var scriptElement = document.createElement('script');                    scriptElement.src = 'https://public.tableau.com/javascripts/api/viz_v1.js';                    vizElement.parentNode.insertBefore(scriptElement, vizElement);                </script>"
            ],
            "text/plain": [
              "<IPython.core.display.HTML object>"
            ]
          },
          "metadata": {
            "tags": []
          },
          "execution_count": 1
        }
      ]
    },
    {
      "cell_type": "markdown",
      "metadata": {
        "id": "SvWfnlDjnos1",
        "colab_type": "text"
      },
      "source": [
        "## Conclusion"
      ]
    },
    {
      "cell_type": "markdown",
      "metadata": {
        "id": "rfWefr2gnxOG",
        "colab_type": "text"
      },
      "source": [
        "We used data from Kaggle to create a project that looks at the sum of the average price of Hass avocados every month in Philadelphia from 2015 to 2018. For this specific data set, we assumed price was based on quality, taste, consistency, season, and some other factors. The chart ranks the months by highest price which reflect a higher demand. Although Hass avocados are no longer seasonal, they have growing seasons that range from March to October/November depending on the year and the area. In 2015 and 2016, the top three months with the highest prices were consistent with the growing season for avocados. In 2015, the top three months for highest prices were May, August, and March with a price of $16.06, $15.66, and $15.48 respectively. In 2016, the top three months were October, July, and November. In 2017 however, the months changed to April, July, and January. From the animation on the chart, it is evident there is no consistent trend in prices of avocados over the course of the year in Philadelphia. While the top three months for most years are in the growing season, the trend of prices for those months follow no specific pattern. They fluctuate heavily which could be attributed to the assumptions listed and the fact that the chosen area is Philadelphia. Philadelphia is not an area known to geographically consume a lot of avocados."
      ]
    },
    {
      "cell_type": "code",
      "metadata": {
        "id": "GiYDwrUYn0k0",
        "colab_type": "code",
        "colab": {}
      },
      "source": [
        ""
      ],
      "execution_count": 0,
      "outputs": []
    }
  ]
}