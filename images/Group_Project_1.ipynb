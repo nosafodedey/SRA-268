{
  "nbformat": 4,
  "nbformat_minor": 0,
  "metadata": {
    "colab": {
      "name": "Group Project 1.ipynb",
      "provenance": [],
      "collapsed_sections": []
    },
    "kernelspec": {
      "name": "python3",
      "display_name": "Python 3"
    }
  },
  "cells": [
    {
      "cell_type": "markdown",
      "metadata": {
        "id": "Z6LQsJBU1vHd",
        "colab_type": "text"
      },
      "source": [
        "## Title: March Snowfall Across 20 Years\n",
        "\n"
      ]
    },
    {
      "cell_type": "markdown",
      "metadata": {
        "id": "kW6Cbvo82Sys",
        "colab_type": "text"
      },
      "source": [
        "#### Creators\n",
        "\n",
        "\n",
        "*   Calvin Snyder\n",
        "*   Nicole Osafo-Dedey\n",
        "*   Noah Schaffer\n",
        "\n",
        "\n",
        "\n",
        "\n",
        "\n"
      ]
    },
    {
      "cell_type": "markdown",
      "metadata": {
        "id": "cixXSM4I12Yw",
        "colab_type": "text"
      },
      "source": [
        "### Original Project (Lab Assignment 1)"
      ]
    },
    {
      "cell_type": "markdown",
      "metadata": {
        "id": "3Xny9mL615LM",
        "colab_type": "text"
      },
      "source": [
        "My goal is to make a graph that allows people to easily and quickly see the differences in snow recieved throughout March in State College from year to year. The reason for choosing March is because, according to Jon Nese, March is the wildest month for snow in State College on average, compared to other months."
      ]
    },
    {
      "cell_type": "markdown",
      "metadata": {
        "id": "DcDXW5WdK9no",
        "colab_type": "text"
      },
      "source": [
        "![alt text](https://raw.githubusercontent.com/cms7763/SRA268-Spring2020/master/Lab%201/Snow%20in%20March%20across%20Three%20Years.png)"
      ]
    },
    {
      "cell_type": "markdown",
      "metadata": {
        "id": "NEQgzUl32GVZ",
        "colab_type": "text"
      },
      "source": [
        "Based off the data and graph, it appears that mid-March 2017 was when there was the most snow in March in the past three years. March of 2019 had very little snow throughout the entire month, and 2018 was similar until the third quarter when there was a moderate snowfall of around 3 inches."
      ]
    },
    {
      "cell_type": "markdown",
      "metadata": {
        "id": "ROM_QFLo2KyH",
        "colab_type": "text"
      },
      "source": [
        "### Team Project 1"
      ]
    },
    {
      "cell_type": "markdown",
      "metadata": {
        "id": "Q5t3T7W-Hki8",
        "colab_type": "text"
      },
      "source": [
        "The goal is to make a graph that extends the previous to include a total of twenty years of data as opposed to three, and to be able to compare each year's snowfall across the month of March from day to day. The new data should help showcase more variety and provide a more accurate representation of snowfall in March. Any winter month could be chosen to serve good data comparisons, but we chose March because professor and meteorologist Jon Nese stated that March is statistically the worst for large amounts of snow in state college, compared to other winter months."
      ]
    },
    {
      "cell_type": "markdown",
      "metadata": {
        "id": "YBMMWB2oHrRB",
        "colab_type": "text"
      },
      "source": [
        "#### The Good"
      ]
    },
    {
      "cell_type": "markdown",
      "metadata": {
        "id": "ITlYgwM6Ht8K",
        "colab_type": "text"
      },
      "source": [
        "This graph is what we considered to be a good graph because it accurately represents all the data we are trying to showcase, in a pleasing way that isn't confusing. While it is very layered, this can easily be simplified by clicking the years on the right-hand side to see any specific month, making the graph very easy on the eyes. The color palette we chose allows for viewers to distinguish more recent years by their darker color, and earlier years by their lighter color. We chose to allow viewers to observe the differences in snowfall on a day to day basis and make observations based on the precise day the snowfall occurred."
      ]
    },
    {
      "cell_type": "code",
      "metadata": {
        "id": "_0eP3qoh2QD0",
        "colab_type": "code",
        "outputId": "201a1693-207f-4b16-8673-b1d37d5d3629",
        "colab": {
          "base_uri": "https://localhost:8080/",
          "height": 1000
        }
      },
      "source": [
        "import IPython\n",
        "IPython.display.HTML(\"<div class='tableauPlaceholder' id='viz1580955189428' style='position: relative'><noscript><a href='#'><img alt=' ' src='https:&#47;&#47;public.tableau.com&#47;static&#47;images&#47;Gr&#47;GroupAssignment1_1&#47;Sheet1&#47;1_rss.png' style='border: none' /></a></noscript><object class='tableauViz'  style='display:none;'><param name='host_url' value='https%3A%2F%2Fpublic.tableau.com%2F' /> <param name='embed_code_version' value='3' /> <param name='site_root' value='' /><param name='name' value='GroupAssignment1_1&#47;Sheet1' /><param name='tabs' value='no' /><param name='toolbar' value='yes' /><param name='static_image' value='https:&#47;&#47;public.tableau.com&#47;static&#47;images&#47;Gr&#47;GroupAssignment1_1&#47;Sheet1&#47;1.png' /> <param name='animate_transition' value='yes' /><param name='display_static_image' value='yes' /><param name='display_spinner' value='yes' /><param name='display_overlay' value='yes' /><param name='display_count' value='yes' /><param name='filter' value='publish=yes' /></object></div>                <script type='text/javascript'>                    var divElement = document.getElementById('viz1580955189428');                    var vizElement = divElement.getElementsByTagName('object')[0];                    vizElement.style.width='100%';vizElement.style.height=(divElement.offsetWidth*0.75)+'px';                    var scriptElement = document.createElement('script');                    scriptElement.src = 'https://public.tableau.com/javascripts/api/viz_v1.js';                    vizElement.parentNode.insertBefore(scriptElement, vizElement);                </script>\")"
      ],
      "execution_count": 0,
      "outputs": [
        {
          "output_type": "execute_result",
          "data": {
            "text/html": [
              "<div class='tableauPlaceholder' id='viz1580955189428' style='position: relative'><noscript><a href='#'><img alt=' ' src='https:&#47;&#47;public.tableau.com&#47;static&#47;images&#47;Gr&#47;GroupAssignment1_1&#47;Sheet1&#47;1_rss.png' style='border: none' /></a></noscript><object class='tableauViz'  style='display:none;'><param name='host_url' value='https%3A%2F%2Fpublic.tableau.com%2F' /> <param name='embed_code_version' value='3' /> <param name='site_root' value='' /><param name='name' value='GroupAssignment1_1&#47;Sheet1' /><param name='tabs' value='no' /><param name='toolbar' value='yes' /><param name='static_image' value='https:&#47;&#47;public.tableau.com&#47;static&#47;images&#47;Gr&#47;GroupAssignment1_1&#47;Sheet1&#47;1.png' /> <param name='animate_transition' value='yes' /><param name='display_static_image' value='yes' /><param name='display_spinner' value='yes' /><param name='display_overlay' value='yes' /><param name='display_count' value='yes' /><param name='filter' value='publish=yes' /></object></div>                <script type='text/javascript'>                    var divElement = document.getElementById('viz1580955189428');                    var vizElement = divElement.getElementsByTagName('object')[0];                    vizElement.style.width='100%';vizElement.style.height=(divElement.offsetWidth*0.75)+'px';                    var scriptElement = document.createElement('script');                    scriptElement.src = 'https://public.tableau.com/javascripts/api/viz_v1.js';                    vizElement.parentNode.insertBefore(scriptElement, vizElement);                </script>"
            ],
            "text/plain": [
              "<IPython.core.display.HTML object>"
            ]
          },
          "metadata": {
            "tags": []
          },
          "execution_count": 1
        }
      ]
    },
    {
      "cell_type": "markdown",
      "metadata": {
        "id": "vZ__tY4XINir",
        "colab_type": "text"
      },
      "source": [
        "#### The Bad"
      ]
    },
    {
      "cell_type": "markdown",
      "metadata": {
        "id": "DszQ1tGVIRQq",
        "colab_type": "text"
      },
      "source": [
        "This graph would be considered bad, because unlike the first graph it presnents the data in a confusing manner that can be difficult to read and process. While the first graph was arranged in lines corresponding with the year, the second, \"bad\" graph only displays points with the temperature on December third over a span of years. Also, while our focus of data was on snowfall in march over twenty years, this \"bad\" graph covers the max temperature on Decemember third over the course of twenty years instead. When comparing the first graph to the second, it is obvious that the first one does a better job of representing our data."
      ]
    },
    {
      "cell_type": "code",
      "metadata": {
        "id": "exP8QkajF7Du",
        "colab_type": "code",
        "outputId": "de019c64-5c70-41cf-e7fa-d569e715051e",
        "colab": {
          "base_uri": "https://localhost:8080/",
          "height": 1000
        }
      },
      "source": [
        "import IPython\n",
        "IPython.display.HTML(\"<div class='tableauPlaceholder' id='viz1581137573048' style='position: relative'><noscript><a href='#'><img alt=' ' src='https:&#47;&#47;public.tableau.com&#47;static&#47;images&#47;Sn&#47;Snowfall_15811375590980&#47;Sheet1&#47;1_rss.png' style='border: none' /></a></noscript><object class='tableauViz'  style='display:none;'><param name='host_url' value='https%3A%2F%2Fpublic.tableau.com%2F' /> <param name='embed_code_version' value='3' /> <param name='site_root' value='' /><param name='name' value='Snowfall_15811375590980&#47;Sheet1' /><param name='tabs' value='no' /><param name='toolbar' value='yes' /><param name='static_image' value='https:&#47;&#47;public.tableau.com&#47;static&#47;images&#47;Sn&#47;Snowfall_15811375590980&#47;Sheet1&#47;1.png' /> <param name='animate_transition' value='yes' /><param name='display_static_image' value='yes' /><param name='display_spinner' value='yes' /><param name='display_overlay' value='yes' /><param name='display_count' value='yes' /><param name='filter' value='publish=yes' /></object></div>                <script type='text/javascript'>                    var divElement = document.getElementById('viz1581137573048');                    var vizElement = divElement.getElementsByTagName('object')[0];                    vizElement.style.width='100%';vizElement.style.height=(divElement.offsetWidth*0.75)+'px';                    var scriptElement = document.createElement('script');                    scriptElement.src = 'https://public.tableau.com/javascripts/api/viz_v1.js';                    vizElement.parentNode.insertBefore(scriptElement, vizElement);                </script>\")\n"
      ],
      "execution_count": 1,
      "outputs": [
        {
          "output_type": "execute_result",
          "data": {
            "text/html": [
              "<div class='tableauPlaceholder' id='viz1581137573048' style='position: relative'><noscript><a href='#'><img alt=' ' src='https:&#47;&#47;public.tableau.com&#47;static&#47;images&#47;Sn&#47;Snowfall_15811375590980&#47;Sheet1&#47;1_rss.png' style='border: none' /></a></noscript><object class='tableauViz'  style='display:none;'><param name='host_url' value='https%3A%2F%2Fpublic.tableau.com%2F' /> <param name='embed_code_version' value='3' /> <param name='site_root' value='' /><param name='name' value='Snowfall_15811375590980&#47;Sheet1' /><param name='tabs' value='no' /><param name='toolbar' value='yes' /><param name='static_image' value='https:&#47;&#47;public.tableau.com&#47;static&#47;images&#47;Sn&#47;Snowfall_15811375590980&#47;Sheet1&#47;1.png' /> <param name='animate_transition' value='yes' /><param name='display_static_image' value='yes' /><param name='display_spinner' value='yes' /><param name='display_overlay' value='yes' /><param name='display_count' value='yes' /><param name='filter' value='publish=yes' /></object></div>                <script type='text/javascript'>                    var divElement = document.getElementById('viz1581137573048');                    var vizElement = divElement.getElementsByTagName('object')[0];                    vizElement.style.width='100%';vizElement.style.height=(divElement.offsetWidth*0.75)+'px';                    var scriptElement = document.createElement('script');                    scriptElement.src = 'https://public.tableau.com/javascripts/api/viz_v1.js';                    vizElement.parentNode.insertBefore(scriptElement, vizElement);                </script>"
            ],
            "text/plain": [
              "<IPython.core.display.HTML object>"
            ]
          },
          "metadata": {
            "tags": []
          },
          "execution_count": 1
        }
      ]
    },
    {
      "cell_type": "markdown",
      "metadata": {
        "id": "NnaYvuAIIkPV",
        "colab_type": "text"
      },
      "source": [
        "#### The Ugly"
      ]
    },
    {
      "cell_type": "markdown",
      "metadata": {
        "id": "MjmwGWTlIlOi",
        "colab_type": "text"
      },
      "source": [
        "This graph is considered ugly because although it does provide the information we want, it does not do it in a straight forward way. The graph contains other information that is not necessary or useful as well as the graph having too much going on. The graph is hard to read initially and it is hard to depict exactly where the March snowfall data is on the graph. The colors are all over the place, there is no consistent palette that correlates to a specific result or data point. This graph is also not that appealing visually and has no dimensions.\n",
        "\n",
        " "
      ]
    },
    {
      "cell_type": "code",
      "metadata": {
        "id": "NQXOfUYSISyG",
        "colab_type": "code",
        "outputId": "d37bc89b-33a7-4d03-a613-e789694e071b",
        "colab": {
          "base_uri": "https://localhost:8080/",
          "height": 1000
        }
      },
      "source": [
        "import IPython\n",
        "IPython.display.HTML(\"<div class='tableauPlaceholder' id='viz1581127074106' style='position: relative'><noscript><a href='#'><img alt=' ' src='https:&#47;&#47;public.tableau.com&#47;static&#47;images&#47;Ma&#47;MarchSnowfall&#47;Sheet1&#47;1_rss.png' style='border: none' /></a></noscript><object class='tableauViz'  style='display:none;'><param name='host_url' value='https%3A%2F%2Fpublic.tableau.com%2F' /> <param name='embed_code_version' value='3' /> <param name='site_root' value='' /><param name='name' value='MarchSnowfall&#47;Sheet1' /><param name='tabs' value='no' /><param name='toolbar' value='yes' /><param name='static_image' value='https:&#47;&#47;public.tableau.com&#47;static&#47;images&#47;Ma&#47;MarchSnowfall&#47;Sheet1&#47;1.png' /> <param name='animate_transition' value='yes' /><param name='display_static_image' value='yes' /><param name='display_spinner' value='yes' /><param name='display_overlay' value='yes' /><param name='display_count' value='yes' /><param name='filter' value='publish=yes' /></object></div>                <script type='text/javascript'>                    var divElement = document.getElementById('viz1581127074106');                    var vizElement = divElement.getElementsByTagName('object')[0];                    vizElement.style.width='100%';vizElement.style.height=(divElement.offsetWidth*0.75)+'px';                    var scriptElement = document.createElement('script');                    scriptElement.src = 'https://public.tableau.com/javascripts/api/viz_v1.js';                    vizElement.parentNode.insertBefore(scriptElement, vizElement);                </script>\")\n"
      ],
      "execution_count": 0,
      "outputs": [
        {
          "output_type": "execute_result",
          "data": {
            "text/html": [
              "<div class='tableauPlaceholder' id='viz1581127074106' style='position: relative'><noscript><a href='#'><img alt=' ' src='https:&#47;&#47;public.tableau.com&#47;static&#47;images&#47;Ma&#47;MarchSnowfall&#47;Sheet1&#47;1_rss.png' style='border: none' /></a></noscript><object class='tableauViz'  style='display:none;'><param name='host_url' value='https%3A%2F%2Fpublic.tableau.com%2F' /> <param name='embed_code_version' value='3' /> <param name='site_root' value='' /><param name='name' value='MarchSnowfall&#47;Sheet1' /><param name='tabs' value='no' /><param name='toolbar' value='yes' /><param name='static_image' value='https:&#47;&#47;public.tableau.com&#47;static&#47;images&#47;Ma&#47;MarchSnowfall&#47;Sheet1&#47;1.png' /> <param name='animate_transition' value='yes' /><param name='display_static_image' value='yes' /><param name='display_spinner' value='yes' /><param name='display_overlay' value='yes' /><param name='display_count' value='yes' /><param name='filter' value='publish=yes' /></object></div>                <script type='text/javascript'>                    var divElement = document.getElementById('viz1581127074106');                    var vizElement = divElement.getElementsByTagName('object')[0];                    vizElement.style.width='100%';vizElement.style.height=(divElement.offsetWidth*0.75)+'px';                    var scriptElement = document.createElement('script');                    scriptElement.src = 'https://public.tableau.com/javascripts/api/viz_v1.js';                    vizElement.parentNode.insertBefore(scriptElement, vizElement);                </script>"
            ],
            "text/plain": [
              "<IPython.core.display.HTML object>"
            ]
          },
          "metadata": {
            "tags": []
          },
          "execution_count": 3
        }
      ]
    },
    {
      "cell_type": "code",
      "metadata": {
        "id": "e3SKAxePKem_",
        "colab_type": "code",
        "colab": {}
      },
      "source": [
        ""
      ],
      "execution_count": 0,
      "outputs": []
    }
  ]
}