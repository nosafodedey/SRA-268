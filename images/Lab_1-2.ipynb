{
  "nbformat": 4,
  "nbformat_minor": 0,
  "metadata": {
    "colab": {
      "name": "Lab 1.ipynb",
      "provenance": []
    },
    "kernelspec": {
      "name": "python3",
      "display_name": "Python 3"
    }
  },
  "cells": [
    {
      "cell_type": "markdown",
      "metadata": {
        "id": "S93rYekYfaSM",
        "colab_type": "text"
      },
      "source": [
        "#Average Feb. 24th Temperatures"
      ]
    },
    {
      "cell_type": "markdown",
      "metadata": {
        "id": "6w8nnlOufjsk",
        "colab_type": "text"
      },
      "source": [
        "#Outline"
      ]
    },
    {
      "cell_type": "markdown",
      "metadata": {
        "id": "RtD_VTIYlIdb",
        "colab_type": "text"
      },
      "source": [
        "For this mini project, I will be using the high and low temperatures for February 24th of each year to calculate an average temperature. I created a line graph with the highs, lows, and the averages I calculated. Then I connected the pieces of data to follow the pattern of temperatures in order to calculate the average for my birthday this year."
      ]
    },
    {
      "cell_type": "markdown",
      "metadata": {
        "id": "apShjolZfp0c",
        "colab_type": "text"
      },
      "source": [
        "#Sketch"
      ]
    },
    {
      "cell_type": "markdown",
      "metadata": {
        "id": "eQDCiN0URlWs",
        "colab_type": "text"
      },
      "source": [
        "![alt text](https://raw.githubusercontent.com/nosafodedey/SRA-268/master/images/Lab%20Sketch.png)\n",
        "\n",
        "\n",
        "\n",
        "\n"
      ]
    },
    {
      "cell_type": "markdown",
      "metadata": {
        "id": "rwN1IgtgfvES",
        "colab_type": "text"
      },
      "source": [
        "#Conclusions"
      ]
    },
    {
      "cell_type": "markdown",
      "metadata": {
        "id": "SbNwriH8Kf5u",
        "colab_type": "text"
      },
      "source": [
        "Based on the graph and the data presented, It would be safe to say the average for my birthday this year will be under 30 degrees. Following the pattern for the averages, I would estimate between 20 degrees and 25 degrees. While the average dropped about 20 degrees from 2017 to 2018, the average from 2018 to 2019 did not drop as drastically.\n",
        "\n"
      ]
    }
  ]
}