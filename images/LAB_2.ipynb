{
  "nbformat": 4,
  "nbformat_minor": 0,
  "metadata": {
    "colab": {
      "name": "LAB 2.ipynb",
      "provenance": []
    },
    "kernelspec": {
      "name": "python3",
      "display_name": "Python 3"
    }
  },
  "cells": [
    {
      "cell_type": "markdown",
      "metadata": {
        "id": "6sOc4Uyr4U-Z",
        "colab_type": "text"
      },
      "source": [
        "## Graph Types"
      ]
    },
    {
      "cell_type": "markdown",
      "metadata": {
        "id": "0zZdVLAd5CYr",
        "colab_type": "text"
      },
      "source": [
        "Creator\n",
        "* Nicole Osafo-Dedey"
      ]
    },
    {
      "cell_type": "markdown",
      "metadata": {
        "id": "g-r6Clq45Hn4",
        "colab_type": "text"
      },
      "source": [
        "### Deviation\n"
      ]
    },
    {
      "cell_type": "markdown",
      "metadata": {
        "colab_type": "text",
        "id": "geRXcByXGZtx"
      },
      "source": [
        "![alt text](https://raw.githubusercontent.com/nosafodedey/SRA-268/master/images/Diverging%20Bar.png)"
      ]
    },
    {
      "cell_type": "markdown",
      "metadata": {
        "id": "w6bZ_NEi7E3w",
        "colab_type": "text"
      },
      "source": [
        "#### What is this telling us?"
      ]
    },
    {
      "cell_type": "markdown",
      "metadata": {
        "id": "95L-spaC7QHF",
        "colab_type": "text"
      },
      "source": [
        "The diverging bars highlight the average lose seed for the 4 different regions in 2014, 2015, and 2016. Based on the data, the regions had very similar average losing seeds all three years. Region Z  and W seemed to have a pretty even spread of average losing seems. Region W and Y had the most average losing seeds in 2016, but had the least in 2015. Overall, it could be said that region Y had the most average lose seeds over this 3 year period and region z would have the least average lose seeds over that 3 year period."
      ]
    },
    {
      "cell_type": "markdown",
      "metadata": {
        "id": "YgXyXjmz7cDP",
        "colab_type": "text"
      },
      "source": [
        "### Correlation\n"
      ]
    },
    {
      "cell_type": "markdown",
      "metadata": {
        "id": "SGx15rZq7hvt",
        "colab_type": "text"
      },
      "source": [
        "![alt text](https://raw.githubusercontent.com/nosafodedey/SRA-268/master/images/correlation.png)"
      ]
    },
    {
      "cell_type": "markdown",
      "metadata": {
        "id": "dljjONNi7jmj",
        "colab_type": "text"
      },
      "source": [
        "#### What is this telling us?"
      ]
    },
    {
      "cell_type": "markdown",
      "metadata": {
        "id": "PwZEZrFB7laG",
        "colab_type": "text"
      },
      "source": [
        "This graph shows the correlation between the season and the number of winning points for each region's losses. The graph shows a positive correlation between the season and the count of winning points. Region Z has the highest count of winning points for for a game loss."
      ]
    },
    {
      "cell_type": "markdown",
      "metadata": {
        "id": "MqUdI-uL7r2s",
        "colab_type": "text"
      },
      "source": [
        "### Ranking\n"
      ]
    },
    {
      "cell_type": "markdown",
      "metadata": {
        "id": "AvlxCOVt7x9F",
        "colab_type": "text"
      },
      "source": [
        "![alt text](https://raw.githubusercontent.com/nosafodedey/SRA-268/master/images/Ranking.png)"
      ]
    },
    {
      "cell_type": "markdown",
      "metadata": {
        "id": "lCAYtfza7yTq",
        "colab_type": "text"
      },
      "source": [
        "#### What is this telling us?"
      ]
    },
    {
      "cell_type": "markdown",
      "metadata": {
        "id": "MyuciD277ygU",
        "colab_type": "text"
      },
      "source": [
        "This graph shows the total winning points for some of the losing mascots in descending order. The Bulldogs had the most winning points with a little over 8k total points. The Bulldogs, Tigers, and Wildcats would be considered outliers for this graph as they each scored over 7k total points while most teams scored under 4k points."
      ]
    },
    {
      "cell_type": "markdown",
      "metadata": {
        "id": "dGDGl8-G7y8Y",
        "colab_type": "text"
      },
      "source": [
        "### Distribution\n"
      ]
    },
    {
      "cell_type": "markdown",
      "metadata": {
        "id": "FB0uV-jy76p9",
        "colab_type": "text"
      },
      "source": [
        "![alt text](https://raw.githubusercontent.com/nosafodedey/SRA-268/master/images/Distribution.png)"
      ]
    },
    {
      "cell_type": "markdown",
      "metadata": {
        "id": "_6SOzhrQ76zH",
        "colab_type": "text"
      },
      "source": [
        "#### What is this telling us?"
      ]
    },
    {
      "cell_type": "markdown",
      "metadata": {
        "id": "HBWqsS_g767h",
        "colab_type": "text"
      },
      "source": [
        "Thsi graph is a histogram of the losing points from all the games. The points for these losses was bout 65 points. A team could lose with 75 points and still be within two standard deviations of the average. The highest outlier for this graoh is the 120 points that a team lost with. On the other hand, the lowest losing score was 30 points which is only 35 points away from the average."
      ]
    },
    {
      "cell_type": "markdown",
      "metadata": {
        "id": "wQsDThk677Fy",
        "colab_type": "text"
      },
      "source": [
        "### Change over Time\n"
      ]
    },
    {
      "cell_type": "markdown",
      "metadata": {
        "id": "Z1j_YLOA7_OK",
        "colab_type": "text"
      },
      "source": [
        "![alt text](https://raw.githubusercontent.com/nosafodedey/SRA-268/master/images/Change%20over%20Time.png)"
      ]
    },
    {
      "cell_type": "markdown",
      "metadata": {
        "id": "mpfsmmgi7_Vj",
        "colab_type": "text"
      },
      "source": [
        "#### What is this telling us?"
      ]
    },
    {
      "cell_type": "markdown",
      "metadata": {
        "id": "rYLXoMMO7_di",
        "colab_type": "text"
      },
      "source": [
        "This line graph shows the trend in winning points over the course of 32 years. The trend is not very consistent with the winning points fluctuating. There would be seasons of high winning points, followed by seasons of lower winning points. The general range of winning points did stay pretty consistent after about 1988 until 2000."
      ]
    },
    {
      "cell_type": "markdown",
      "metadata": {
        "id": "lFwiHoE-7_jZ",
        "colab_type": "text"
      },
      "source": [
        "### Magnitude\n"
      ]
    },
    {
      "cell_type": "markdown",
      "metadata": {
        "id": "ICQFnXj78EbF",
        "colab_type": "text"
      },
      "source": [
        "![alt text](https://raw.githubusercontent.com/nosafodedey/SRA-268/master/images/Magnitude.png)"
      ]
    },
    {
      "cell_type": "markdown",
      "metadata": {
        "id": "QGG7XYG88Eii",
        "colab_type": "text"
      },
      "source": [
        "#### What is this telling us?"
      ]
    },
    {
      "cell_type": "markdown",
      "metadata": {
        "id": "VS7uGa0l8Eos",
        "colab_type": "text"
      },
      "source": [
        "This horiontal bar graphs displays the total winning points for the different mascots. It is evident the Blue Devils had the most winning points with over 7k points. A majority of the teams iin ths display did not reach 1k total wnning points, makng the Blue Devils an outlier."
      ]
    },
    {
      "cell_type": "markdown",
      "metadata": {
        "id": "bEKFxP8R8Evk",
        "colab_type": "text"
      },
      "source": [
        "### Part-to-Whole\n"
      ]
    },
    {
      "cell_type": "markdown",
      "metadata": {
        "id": "WFHlcYKV8E35",
        "colab_type": "text"
      },
      "source": [
        "![alt text](https://raw.githubusercontent.com/nosafodedey/SRA-268/master/images/Part%20to%20whole.png)"
      ]
    },
    {
      "cell_type": "markdown",
      "metadata": {
        "id": "PNSd3wlp8UZH",
        "colab_type": "text"
      },
      "source": [
        "#### What is this telling us?"
      ]
    },
    {
      "cell_type": "markdown",
      "metadata": {
        "id": "y9tb_QRA8aqt",
        "colab_type": "text"
      },
      "source": [
        "This pe chart shows that the winning points are split pretty evenly among the different regions. The sum of points is 162,958 meaning each region scored roughly 40,739 points."
      ]
    }
  ]
}